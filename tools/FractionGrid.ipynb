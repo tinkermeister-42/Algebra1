{
 "cells": [
  {
   "cell_type": "code",
   "execution_count": 15,
   "id": "b8595823-f5f7-45ad-8b52-b62ac40e2128",
   "metadata": {},
   "outputs": [],
   "source": [
    "import matplotlib.pyplot as plt\n",
    "import matplotlib.patches as patches\n",
    "\n",
    "def draw_fraction_grid(n_cols, n_rows, filled_boxes, \n",
    "                       filled_color=\"#3498db\", \n",
    "                       empty_color=\"white\", \n",
    "                       edge_color=\"black\",\n",
    "                       figsize=(4, 4),\n",
    "                       filename=None,\n",
    "                       show_labels=True,\n",
    "                       frame=True,\n",
    "                       margin=0.05):\n",
    "    \"\"\"\n",
    "    Draws a grid with a specified number of filled boxes to represent a fraction.\n",
    "    \"\"\"\n",
    "    total_boxes = n_cols * n_rows\n",
    "    filled_boxes = min(filled_boxes, total_boxes)\n",
    "\n",
    "    fig, ax = plt.subplots(figsize=figsize)\n",
    "    ax.set_xlim(-margin, n_cols + margin)\n",
    "    ax.set_ylim(-margin, n_rows + margin)\n",
    "    ax.set_aspect('equal')\n",
    "    ax.axis('off')\n",
    "\n",
    "    for i in range(n_rows):\n",
    "        for j in range(n_cols):\n",
    "            index = i * n_cols + j\n",
    "            color = filled_color if index < filled_boxes else empty_color\n",
    "            rect = patches.Rectangle((j, n_rows - 1 - i), 1, 1,\n",
    "                                     facecolor=color,\n",
    "                                     edgecolor=edge_color,\n",
    "                                     linewidth=1)\n",
    "            ax.add_patch(rect)\n",
    "\n",
    "    if show_labels:\n",
    "        ax.text(n_cols / 2, -1, f\"{filled_boxes} out of {total_boxes}\",\n",
    "                ha='center', va='center', fontsize=12)\n",
    "\n",
    "    if frame:\n",
    "        border = patches.Rectangle(\n",
    "            (0, 0), n_cols, n_rows,\n",
    "            fill=False, edgecolor=\"black\", linewidth=2\n",
    "        )\n",
    "        ax.add_patch(border)\n",
    "\n",
    "    if filename:\n",
    "        plt.savefig(filename, dpi=300, bbox_inches='tight')\n",
    "        plt.show()\n",
    "        plt.close()\n",
    "    else:\n",
    "        plt.show()\n"
   ]
  },
  {
   "cell_type": "code",
   "execution_count": 16,
   "id": "1142bc3c-d0c3-4dc2-a919-54743d32cd76",
   "metadata": {},
   "outputs": [],
   "source": [
    "current_lesson = '/home/osboxes/Documents/Algebra1/images/Unit_1/Lesson_4'"
   ]
  },
  {
   "cell_type": "code",
   "execution_count": 19,
   "id": "7c9587ed-aa21-4a68-979e-3ffd7e69c9a0",
   "metadata": {},
   "outputs": [
    {
     "data": {
      "image/png": "[encoded data removed]",
      "text/plain": [
       "<Figure size 400x400 with 1 Axes>"
      ]
     },
     "metadata": {},
     "output_type": "display_data"
    }
   ],
   "source": [
    "draw_fraction_grid(n_cols=5, n_rows=1, filled_boxes=2, show_labels=False, filename=f\"{current_lesson}/fraction_2_fifths.png\")\n"
   ]
  },
  {
   "cell_type": "code",
   "execution_count": null,
   "id": "9e0bc9e5-0a1e-4564-b729-680235646dcd",
   "metadata": {},
   "outputs": [],
   "source": []
  }
 ],
 "metadata": {
  "kernelspec": {
   "display_name": "Python 3 (ipykernel)",
   "language": "python",
   "name": "python3"
  },
  "language_info": {
   "codemirror_mode": {
    "name": "ipython",
    "version": 3
   },
   "file_extension": ".py",
   "mimetype": "text/x-python",
   "name": "python",
   "nbconvert_exporter": "python",
   "pygments_lexer": "ipython3",
   "version": "3.13.3"
  }
 },
 "nbformat": 4,
 "nbformat_minor": 5
}
