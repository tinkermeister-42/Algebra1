{
 "cells": [
  {
   "cell_type": "code",
   "execution_count": 288,
   "id": "5516ee7c-e9d1-4d79-b7d6-d5f09f43273c",
   "metadata": {},
   "outputs": [],
   "source": [
    "import matplotlib.pyplot as plt\n",
    "import numpy as np\n",
    "\n",
    "def plot_number_line_with_points(\n",
    "    line_range=(-10, 10, 1),\n",
    "    orientation='horizontal',\n",
    "    figsize=10,\n",
    "    title=None,\n",
    "    line_thickness=None,\n",
    "    tick_length=None,\n",
    "    tick_fontsize=None,\n",
    "    point_size=None,\n",
    "    points=None,\n",
    "    inequalities=None,\n",
    "    compound_inequalities=None,\n",
    "    arrow=True\n",
    "):\n",
    "    points = points or []\n",
    "    inequalities = inequalities or []\n",
    "    compound_inequalities = compound_inequalities or []\n",
    "\n",
    "    # Set figure dimensions\n",
    "    fig_dims = (figsize, 2) if orientation == 'horizontal' else (2, figsize)\n",
    "\n",
    "    # Dynamic scaling\n",
    "    line_thickness = line_thickness if line_thickness is not None else max(figsize * 0.1, 1.5)\n",
    "    tick_length = tick_length if tick_length is not None else max(figsize * 0.025, 0.1)\n",
    "    tick_fontsize = tick_fontsize if tick_fontsize is not None else int(figsize * 1.2)\n",
    "    point_size = point_size if point_size is not None else max(figsize * 1.2, 6)\n",
    "\n",
    "    fig, ax = plt.subplots(figsize=fig_dims)\n",
    "    ax.set_aspect('equal')\n",
    "    ax.axis('off')\n",
    "\n",
    "    start, end, tick_interval = line_range\n",
    "    ticks = np.arange(start, end + tick_interval, tick_interval)\n",
    "\n",
    "    margin = (end - start) * 0.05\n",
    "    arrow_start = start - margin\n",
    "    arrow_end = end + margin\n",
    "    arrowprops=dict(arrowstyle='<|-|>, head_width=0.5, head_length=1.25', color=\"black\")\n",
    "\n",
    "    def draw_tick_labels():\n",
    "        for t in ticks:\n",
    "            if orientation == 'horizontal':\n",
    "                ax.plot([t, t], [-tick_length / 2, tick_length / 2], color='black', lw=1.5, zorder=2)\n",
    "                ax.text(t, -tick_length * 1.8, str(t), ha='center', va='top', fontsize=tick_fontsize)\n",
    "            else:\n",
    "                ax.plot([-tick_length / 2, tick_length / 2], [t, t], color='black', lw=1.5, zorder=2)\n",
    "                ax.text(-tick_length * 3.0, t, str(t), ha='right', va='center', fontsize=tick_fontsize)\n",
    "\n",
    "    def plot_dot(val, closed, color, zorder=4):\n",
    "        face = color if closed else 'white'\n",
    "        edge = color\n",
    "        if orientation == 'horizontal':\n",
    "            ax.plot(val, 0, 'o', markersize=point_size, markeredgewidth=2.5,\n",
    "                    markerfacecolor=face, markeredgecolor=edge, zorder=zorder)\n",
    "        else:\n",
    "            ax.plot(0, val, 'o', markersize=point_size, markeredgewidth=2.5,\n",
    "                    markerfacecolor=face, markeredgecolor=edge, zorder=zorder)\n",
    "    \n",
    "    def plot_ray(op, val, color):\n",
    "        closed = '=' in op\n",
    "        style = f\"head_width=0.5, head_length=1.25\"\n",
    "        \n",
    "        if orientation == 'horizontal':\n",
    "            if '<' in op:\n",
    "                style = '<|-, ' + style\n",
    "                start_xy, end_xy = (arrow_start, 0), (val, 0)\n",
    "            else:\n",
    "                style = '-|>, ' + style\n",
    "                start_xy, end_xy = (val, 0), (arrow_end, 0)\n",
    "        else:\n",
    "            if '<' in op:\n",
    "                style = '<|-, ' + style\n",
    "                start_xy, end_xy = (0, arrow_start), (0, val)\n",
    "            else:\n",
    "                style = '-|>, ' + style\n",
    "                start_xy, end_xy = (0, val), (0, arrow_end)\n",
    "    \n",
    "        ax.annotate(\n",
    "            '', \n",
    "            xy=end_xy, \n",
    "            xytext=start_xy, \n",
    "            arrowprops=dict(arrowstyle=style, color=color, lw=2 * line_thickness),\n",
    "            zorder=3\n",
    "        )\n",
    "        plot_dot(val, closed, color, zorder=3)\n",
    "\n",
    "    def plot_range(a, b, closed_a, closed_b, color):\n",
    "        x = np.linspace(a, b, 300)\n",
    "        if orientation == 'horizontal':\n",
    "            y = np.zeros_like(x)\n",
    "            ax.plot(x, y, color=color, lw=4, zorder=3)\n",
    "            plot_dot(a, closed_a, color)\n",
    "            plot_dot(b, closed_b, color)\n",
    "        else:\n",
    "            y = np.linspace(a, b, 300)\n",
    "            x = np.zeros_like(y)\n",
    "            ax.plot(x, y, color=color, lw=4, zorder=3)\n",
    "            plot_dot(a, closed_a, color, zorder=3)\n",
    "            plot_dot(b, closed_b, color, zorder=3)\n",
    "\n",
    "    # Draw number line\n",
    "    if orientation == 'horizontal':\n",
    "        if arrow:\n",
    "            ax.annotate('', xy=(arrow_end, 0), xytext=(arrow_start, 0), arrowprops=arrowprops, zorder=2)\n",
    "        else:\n",
    "            ax.plot([start, end], [0, 0], color='black', lw=line_thickness, zorder=2)\n",
    "        ax.set_xlim(arrow_start - 0.5, arrow_end + 0.5)\n",
    "        ax.set_ylim(-1, 1)\n",
    "    else:\n",
    "        if arrow:\n",
    "            ax.annotate('', xy=(0, arrow_end), xytext=(0, arrow_start), arrowprops=arrowprops, zorder=2)\n",
    "        else:\n",
    "            ax.plot([0, 0], [start, end], color='black', lw=line_thickness, zorder=2)\n",
    "        ax.set_ylim(arrow_start - 0.5, arrow_end + 0.5)\n",
    "        ax.set_xlim(-2.5, 1.5)\n",
    "\n",
    "    # Draw ticks and labels\n",
    "    draw_tick_labels()\n",
    "\n",
    "    # Plot points\n",
    "    for val, closed, color in points:\n",
    "        plot_dot(val, closed, color)\n",
    "\n",
    "    # Plot inequalities\n",
    "    for op, val, color in inequalities:\n",
    "        plot_ray(op, val, color)\n",
    "\n",
    "    # Plot compound inequalities\n",
    "    for low, high, closed_low, closed_high, color in compound_inequalities:\n",
    "        plot_range(low, high, closed_low, closed_high, color)\n",
    "\n",
    "    if title:\n",
    "        ax.set_title(title, fontsize=tick_fontsize + 2)\n",
    "\n",
    "    plt.tight_layout()\n",
    "    plt.show()\n"
   ]
  },
  {
   "cell_type": "code",
   "execution_count": null,
   "id": "d7efc6fa-d400-404e-9934-3257e131fd42",
   "metadata": {},
   "outputs": [],
   "source": []
  },
  {
   "cell_type": "code",
   "execution_count": 301,
   "id": "396c4b55-2154-4d7d-b657-0ee917bcfd3a",
   "metadata": {},
   "outputs": [
    {
     "data": {
      "image/png": "[encoded data removed]",
      "text/plain": [
       "<Figure size 800x200 with 1 Axes>"
      ]
     },
     "metadata": {},
     "output_type": "display_data"
    }
   ],
   "source": [
    "plot_number_line_with_points(\n",
    "    line_range=(-10, 10, 1),\n",
    "    orientation='horizontal',\n",
    "    figsize=8,\n",
    "    title=\"Number Line with Points\",\n",
    "    points=[(3, True, 'green'), (5, False, 'red')],\n",
    ")\n"
   ]
  },
  {
   "cell_type": "code",
   "execution_count": 299,
   "id": "78af7340-5b1c-446b-878e-e80e8aa6298a",
   "metadata": {},
   "outputs": [
    {
     "data": {
      "image/png": "[encoded data removed]",
      "text/plain": [
       "<Figure size 800x200 with 1 Axes>"
      ]
     },
     "metadata": {},
     "output_type": "display_data"
    }
   ],
   "source": [
    "plot_number_line_with_points(\n",
    "    line_range=(-10, 10, 1),\n",
    "    orientation='horizontal',\n",
    "    figsize=8,\n",
    "    title=\"Number Line with Inequalities\",\n",
    "    inequalities=[('>=', -4, 'blue'), ('<', 2, 'orange')]\n",
    ")\n"
   ]
  },
  {
   "cell_type": "code",
   "execution_count": 300,
   "id": "148827d6-e684-4adb-bc18-57ac02dcfe9c",
   "metadata": {},
   "outputs": [
    {
     "data": {
      "image/png": "[encoded data removed]",
      "text/plain": [
       "<Figure size 800x200 with 1 Axes>"
      ]
     },
     "metadata": {},
     "output_type": "display_data"
    }
   ],
   "source": [
    "plot_number_line_with_points(\n",
    "    line_range=(-10, 10, 1),\n",
    "    orientation='horizontal',\n",
    "    figsize=8,\n",
    "    title=\"Number Line with Compound Inequalities\",\n",
    "    compound_inequalities=[(1, 6, True, False, 'orange')]\n",
    ")\n"
   ]
  },
  {
   "cell_type": "code",
   "execution_count": null,
   "id": "4ddd1692-401e-4772-887e-d32cbb496e54",
   "metadata": {},
   "outputs": [],
   "source": []
  }
 ],
 "metadata": {
  "kernelspec": {
   "display_name": "Python 3 (ipykernel)",
   "language": "python",
   "name": "python3"
  },
  "language_info": {
   "codemirror_mode": {
    "name": "ipython",
    "version": 3
   },
   "file_extension": ".py",
   "mimetype": "text/x-python",
   "name": "python",
   "nbconvert_exporter": "python",
   "pygments_lexer": "ipython3",
   "version": "3.13.3"
  }
 },
 "nbformat": 4,
 "nbformat_minor": 5
}
