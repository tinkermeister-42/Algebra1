{
 "cells": [
  {
   "cell_type": "code",
   "execution_count": 53,
   "id": "0df5ea6d-3c26-4f82-b0b5-2b4765a3eeba",
   "metadata": {},
   "outputs": [],
   "source": [
    "import matplotlib.pyplot as plt\n",
    "\n",
    "\n",
    "flatly_colors = [\n",
    "    \"#2C3E50\",  # dark blue-gray\n",
    "    \"#18BC9C\",  # teal\n",
    "    \"#3498DB\",  # sky blue\n",
    "    \"#F39C12\",  # orange\n",
    "    \"#E74C3C\",  # red\n",
    "    \"#9B59B6\",  # purple\n",
    "    \"#1ABC9C\",  # lighter teal\n",
    "    \"#34495E\",  # blue-gray\n",
    "    \"#27AE60\",  # green\n",
    "    \"#BDC3C7\",  # light gray\n",
    "]\n",
    "\n",
    "def save_pie_chart(\n",
    "    values,\n",
    "    labels=None,\n",
    "    colors=None,\n",
    "    title=None,\n",
    "    filename=\"pie_chart.png\",\n",
    "    explode=None,\n",
    "    show_pct_labels=True,\n",
    "    wedge_style={\"linewidth\": 1, \"edgecolor\": \"white\"},\n",
    "    startangle=90,\n",
    "):\n",
    "    fig, ax = plt.subplots()\n",
    "\n",
    "    # Generate percentage labels automatically\n",
    "    autopct = \"%1.0f%%\" if show_pct_labels else \"\"\n",
    "        \n",
    "    wedges, texts, autotexts = ax.pie(\n",
    "        values,\n",
    "        labels=labels,\n",
    "        colors=colors,\n",
    "        explode=explode,\n",
    "        autopct=autopct,\n",
    "        startangle=startangle,\n",
    "        wedgeprops=wedge_style,\n",
    "        textprops={\"fontsize\": 12},\n",
    "    )\n",
    "\n",
    "    if title:\n",
    "        ax.set_title(title)\n",
    "\n",
    "    ax.axis(\"equal\")  # Equal aspect ratio makes it a circle\n",
    "    plt.tight_layout()\n",
    "    plt.savefig(filename, dpi=300)\n",
    "    plt.show()\n",
    "    plt.close()"
   ]
  },
  {
   "cell_type": "markdown",
   "id": "6ca94a93-78d8-4be6-ab64-e3be94773cf7",
   "metadata": {},
   "source": [
    "$$\n",
    "\\frac{18}{12}\n",
    "= \\frac{\\cancel{\\color{red}2} \\times 3 \\times \\cancel{\\color{red}3}}{\\cancel{\\color{red}2} \\times \\cancel{\\color{red}3} \\times 2}\n",
    "= \\frac{3}{2}\n",
    "$$"
   ]
  },
  {
   "cell_type": "markdown",
   "id": "5807d007-1e6f-4a8b-84f2-a7786b1e3e38",
   "metadata": {},
   "source": [
    "$$\n",
    "\\frac{18}{12}\n",
    "= \\frac{\\color{red}{\\cancel{2}} \\times 3 \\times \\color{red}{\\cancel{3}}}{\\color{red}{\\cancel{2}} \\times \\color{red}{\\cancel{3}} \\times 2}\n",
    "= \\frac{3}{2}\n",
    "$$"
   ]
  },
  {
   "cell_type": "code",
   "execution_count": 71,
   "id": "8007b448-1aea-4920-95a8-76545237991f",
   "metadata": {},
   "outputs": [
    {
     "data": {
      "image/png": "[encoded data removed]",
      "text/plain": [
       "<Figure size 640x480 with 1 Axes>"
      ]
     },
     "metadata": {},
     "output_type": "display_data"
    }
   ],
   "source": [
    "# Example usage\n",
    "save_pie_chart(\n",
    "    values=[1, 1, 1, 1, 4],\n",
    "    #labels=[\"1/8\", \"\", \"\", \"\", \"\"],\n",
    "    colors=[flatly_colors[2], \"#bbb\", \"#bbb\", \"#bbb\", \"#eee\"],\n",
    "    title=\"\",\n",
    "    filename=\"fourth_of_a_half.png\",\n",
    "    show_pct_labels=False\n",
    "    #explode=[.1, 0],  # optional: offsets slices\n",
    ")"
   ]
  },
  {
   "cell_type": "code",
   "execution_count": null,
   "id": "b7a71472-5708-44b1-a768-9481c52d3a30",
   "metadata": {},
   "outputs": [],
   "source": []
  }
 ],
 "metadata": {
  "kernelspec": {
   "display_name": "Python 3 (ipykernel)",
   "language": "python",
   "name": "python3"
  },
  "language_info": {
   "codemirror_mode": {
    "name": "ipython",
    "version": 3
   },
   "file_extension": ".py",
   "mimetype": "text/x-python",
   "name": "python",
   "nbconvert_exporter": "python",
   "pygments_lexer": "ipython3",
   "version": "3.13.3"
  }
 },
 "nbformat": 4,
 "nbformat_minor": 5
}
