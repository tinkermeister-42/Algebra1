{
 "cells": [
  {
   "cell_type": "code",
   "execution_count": 245,
   "id": "a67894e0-4972-4a06-a1a7-aaa4c853687d",
   "metadata": {},
   "outputs": [
    {
     "name": "stdout",
     "output_type": "stream",
     "text": [
      "The autoreload extension is already loaded. To reload it, use:\n",
      "  %reload_ext autoreload\n"
     ]
    }
   ],
   "source": [
    "%load_ext autoreload\n",
    "%autoreload 2"
   ]
  },
  {
   "cell_type": "code",
   "execution_count": 246,
   "id": "d6e7fd75-7604-405c-8ab7-00fe2a4d8237",
   "metadata": {},
   "outputs": [],
   "source": [
    "import sys\n",
    "sys.path.append(\".\")\n",
    "import FactorTrees as ft    "
   ]
  },
  {
   "cell_type": "code",
   "execution_count": 316,
   "id": "e412c467-995e-43b6-9dca-e1ff69bf631e",
   "metadata": {},
   "outputs": [
    {
     "name": "stdout",
     "output_type": "stream",
     "text": [
      "\n",
      "```{mermaid}\n",
      "%%| label: fig-mermaid-diagram\n",
      "%%| fit-align: center\n",
      "%%| fig-cap: \" \"\n",
      "flowchart TB\n",
      "    node_0(\"36\")\n",
      "    node_1_0_1(\"6\")\n",
      "    node_0 --> node_1_0_1\n",
      "    node_1_0_2_0_2(\"2\")\n",
      "    node_1_0_1 --> node_1_0_2_0_2\n",
      "    node_1_0_2_1_2(\"3\")\n",
      "    node_1_0_1 --> node_1_0_2_1_2\n",
      "    node_1_1_1(\"6\")\n",
      "    node_0 --> node_1_1_1\n",
      "    node_1_1_2_0_2(\"2\")\n",
      "    node_1_1_1 --> node_1_1_2_0_2\n",
      "    node_1_1_2_1_2(\"3\")\n",
      "    node_1_1_1 --> node_1_1_2_1_2\n",
      "```\n"
     ]
    },
    {
     "data": {
      "text/markdown": [
       "\n",
       "```{mermaid}\n",
       "%%| label: fig-mermaid-diagram\n",
       "%%| fit-align: center\n",
       "%%| fig-cap: \" \"\n",
       "flowchart TB\n",
       "    node_0(\"36\")\n",
       "    node_1_0_1(\"6\")\n",
       "    node_0 --> node_1_0_1\n",
       "    node_1_0_2_0_2(\"2\")\n",
       "    node_1_0_1 --> node_1_0_2_0_2\n",
       "    node_1_0_2_1_2(\"3\")\n",
       "    node_1_0_1 --> node_1_0_2_1_2\n",
       "    node_1_1_1(\"6\")\n",
       "    node_0 --> node_1_1_1\n",
       "    node_1_1_2_0_2(\"2\")\n",
       "    node_1_1_1 --> node_1_1_2_0_2\n",
       "    node_1_1_2_1_2(\"3\")\n",
       "    node_1_1_1 --> node_1_1_2_1_2\n",
       "```"
      ],
      "text/plain": [
       "<IPython.core.display.Markdown object>"
      ]
     },
     "metadata": {},
     "output_type": "display_data"
    }
   ],
   "source": [
    "ft.factor_tree(36, \"b\", max_depth=8)"
   ]
  },
  {
   "cell_type": "code",
   "execution_count": 295,
   "id": "5c3f87ce-ff14-43b9-804a-0f064686ab5a",
   "metadata": {},
   "outputs": [
    {
     "name": "stdout",
     "output_type": "stream",
     "text": [
      "\n",
      "```{mermaid}\n",
      "%%| label: fig-mermaid-diagram\n",
      "%%| fit-align: center\n",
      "%%| fig-cap: \" \"\n",
      "    flowchart TB\n",
      "    node_0(\"256\")\n",
      "    node_1_0_1(\"2\")\n",
      "    node_0 --> node_1_0_1\n",
      "    node_1_1_1(\"128\")\n",
      "    node_0 --> node_1_1_1\n",
      "    node_1_1_2_0_2(\"2\")\n",
      "    node_1_1_1 --> node_1_1_2_0_2\n",
      "    node_1_1_2_1_2(\"64\")\n",
      "    node_1_1_1 --> node_1_1_2_1_2\n",
      "    node_1_1_2_1_3_0_3(\"2\")\n",
      "    node_1_1_2_1_2 --> node_1_1_2_1_3_0_3\n",
      "    node_1_1_2_1_3_1_3(\"32\")\n",
      "    node_1_1_2_1_2 --> node_1_1_2_1_3_1_3\n",
      "    node_1_1_2_1_3_1_4_0_4(\"2\")\n",
      "    node_1_1_2_1_3_1_3 --> node_1_1_2_1_3_1_4_0_4\n",
      "    node_1_1_2_1_3_1_4_1_4(\"16\")\n",
      "    node_1_1_2_1_3_1_3 --> node_1_1_2_1_3_1_4_1_4\n",
      "    node_1_1_2_1_3_1_4_1_5_0_5(\"2\")\n",
      "    node_1_1_2_1_3_1_4_1_4 --> node_1_1_2_1_3_1_4_1_5_0_5\n",
      "    node_1_1_2_1_3_1_4_1_5_1_5(\"8\")\n",
      "    node_1_1_2_1_3_1_4_1_4 --> node_1_1_2_1_3_1_4_1_5_1_5\n",
      "    node_1_1_2_1_3_1_4_1_5_1_6_0_6(\"2\")\n",
      "    node_1_1_2_1_3_1_4_1_5_1_5 --> node_1_1_2_1_3_1_4_1_5_1_6_0_6\n",
      "    node_1_1_2_1_3_1_4_1_5_1_6_1_6(\"4\")\n",
      "    node_1_1_2_1_3_1_4_1_5_1_5 --> node_1_1_2_1_3_1_4_1_5_1_6_1_6\n",
      "    node_1_1_2_1_3_1_4_1_5_1_6_1_7_0_7(\"2\")\n",
      "    node_1_1_2_1_3_1_4_1_5_1_6_1_6 --> node_1_1_2_1_3_1_4_1_5_1_6_1_7_0_7\n",
      "    node_1_1_2_1_3_1_4_1_5_1_6_1_7_1_7(\"2\")\n",
      "    node_1_1_2_1_3_1_4_1_5_1_6_1_6 --> node_1_1_2_1_3_1_4_1_5_1_6_1_7_1_7\n",
      "```\n"
     ]
    },
    {
     "data": {
      "text/markdown": [
       "\n",
       "```{mermaid}\n",
       "%%| label: fig-mermaid-diagram\n",
       "%%| fit-align: center\n",
       "%%| fig-cap: \" \"\n",
       "    flowchart TB\n",
       "    node_0(\"256\")\n",
       "    node_1_0_1(\"2\")\n",
       "    node_0 --> node_1_0_1\n",
       "    node_1_1_1(\"128\")\n",
       "    node_0 --> node_1_1_1\n",
       "    node_1_1_2_0_2(\"2\")\n",
       "    node_1_1_1 --> node_1_1_2_0_2\n",
       "    node_1_1_2_1_2(\"64\")\n",
       "    node_1_1_1 --> node_1_1_2_1_2\n",
       "    node_1_1_2_1_3_0_3(\"2\")\n",
       "    node_1_1_2_1_2 --> node_1_1_2_1_3_0_3\n",
       "    node_1_1_2_1_3_1_3(\"32\")\n",
       "    node_1_1_2_1_2 --> node_1_1_2_1_3_1_3\n",
       "    node_1_1_2_1_3_1_4_0_4(\"2\")\n",
       "    node_1_1_2_1_3_1_3 --> node_1_1_2_1_3_1_4_0_4\n",
       "    node_1_1_2_1_3_1_4_1_4(\"16\")\n",
       "    node_1_1_2_1_3_1_3 --> node_1_1_2_1_3_1_4_1_4\n",
       "    node_1_1_2_1_3_1_4_1_5_0_5(\"2\")\n",
       "    node_1_1_2_1_3_1_4_1_4 --> node_1_1_2_1_3_1_4_1_5_0_5\n",
       "    node_1_1_2_1_3_1_4_1_5_1_5(\"8\")\n",
       "    node_1_1_2_1_3_1_4_1_4 --> node_1_1_2_1_3_1_4_1_5_1_5\n",
       "    node_1_1_2_1_3_1_4_1_5_1_6_0_6(\"2\")\n",
       "    node_1_1_2_1_3_1_4_1_5_1_5 --> node_1_1_2_1_3_1_4_1_5_1_6_0_6\n",
       "    node_1_1_2_1_3_1_4_1_5_1_6_1_6(\"4\")\n",
       "    node_1_1_2_1_3_1_4_1_5_1_5 --> node_1_1_2_1_3_1_4_1_5_1_6_1_6\n",
       "    node_1_1_2_1_3_1_4_1_5_1_6_1_7_0_7(\"2\")\n",
       "    node_1_1_2_1_3_1_4_1_5_1_6_1_6 --> node_1_1_2_1_3_1_4_1_5_1_6_1_7_0_7\n",
       "    node_1_1_2_1_3_1_4_1_5_1_6_1_7_1_7(\"2\")\n",
       "    node_1_1_2_1_3_1_4_1_5_1_6_1_6 --> node_1_1_2_1_3_1_4_1_5_1_6_1_7_1_7\n",
       "```"
      ],
      "text/plain": [
       "<IPython.core.display.Markdown object>"
      ]
     },
     "metadata": {},
     "output_type": "display_data"
    }
   ],
   "source": [
    "ft.factor_tree(256, \"d\")"
   ]
  },
  {
   "cell_type": "code",
   "execution_count": 305,
   "id": "69fc9ef0-90c0-4949-b264-46853cb0b1a6",
   "metadata": {},
   "outputs": [
    {
     "data": {
      "text/plain": [
       "[2, 2, 2, 3, 3, 5]"
      ]
     },
     "execution_count": 305,
     "metadata": {},
     "output_type": "execute_result"
    }
   ],
   "source": [
    "ft.prime_factors(360)"
   ]
  },
  {
   "cell_type": "code",
   "execution_count": 312,
   "id": "ea558274-b97d-4479-bcf5-69a462ecf8a7",
   "metadata": {},
   "outputs": [
    {
     "name": "stdout",
     "output_type": "stream",
     "text": [
      "```{mermaid}\n",
      "flowchart TD\n",
      "    node_0[\"-64\"]\n",
      "    node_1_0_1[\"-1\"]\n",
      "    node_0 --> node_1_0_1\n",
      "    node_1_1_1[\"64\"]\n",
      "    node_0 --> node_1_1_1\n",
      "    node_1_1_2_0_2[\"8\"]\n",
      "    node_1_1_1 --> node_1_1_2_0_2\n",
      "    node_1_1_2_0_3_0_3[\"2\"]\n",
      "    node_1_1_2_0_2 --> node_1_1_2_0_3_0_3\n",
      "    node_1_1_2_0_3_1_3[\"4\"]\n",
      "    node_1_1_2_0_2 --> node_1_1_2_0_3_1_3\n",
      "    node_1_1_2_0_3_1_4_0_4[\"2\"]\n",
      "    node_1_1_2_0_3_1_3 --> node_1_1_2_0_3_1_4_0_4\n",
      "    node_1_1_2_0_3_1_4_1_4[\"2\"]\n",
      "    node_1_1_2_0_3_1_3 --> node_1_1_2_0_3_1_4_1_4\n",
      "    node_1_1_2_1_2[\"8\"]\n",
      "    node_1_1_1 --> node_1_1_2_1_2\n",
      "    node_1_1_2_1_3_0_3[\"2\"]\n",
      "    node_1_1_2_1_2 --> node_1_1_2_1_3_0_3\n",
      "    node_1_1_2_1_3_1_3[\"4\"]\n",
      "    node_1_1_2_1_2 --> node_1_1_2_1_3_1_3\n",
      "    node_1_1_2_1_3_1_4_0_4[\"2\"]\n",
      "    node_1_1_2_1_3_1_3 --> node_1_1_2_1_3_1_4_0_4\n",
      "    node_1_1_2_1_3_1_4_1_4[\"2\"]\n",
      "    node_1_1_2_1_3_1_3 --> node_1_1_2_1_3_1_4_1_4\n",
      "```\n"
     ]
    },
    {
     "data": {
      "text/markdown": [
       "```{mermaid}\n",
       "flowchart TD\n",
       "    node_0[\"-64\"]\n",
       "    node_1_0_1[\"-1\"]\n",
       "    node_0 --> node_1_0_1\n",
       "    node_1_1_1[\"64\"]\n",
       "    node_0 --> node_1_1_1\n",
       "    node_1_1_2_0_2[\"8\"]\n",
       "    node_1_1_1 --> node_1_1_2_0_2\n",
       "    node_1_1_2_0_3_0_3[\"2\"]\n",
       "    node_1_1_2_0_2 --> node_1_1_2_0_3_0_3\n",
       "    node_1_1_2_0_3_1_3[\"4\"]\n",
       "    node_1_1_2_0_2 --> node_1_1_2_0_3_1_3\n",
       "    node_1_1_2_0_3_1_4_0_4[\"2\"]\n",
       "    node_1_1_2_0_3_1_3 --> node_1_1_2_0_3_1_4_0_4\n",
       "    node_1_1_2_0_3_1_4_1_4[\"2\"]\n",
       "    node_1_1_2_0_3_1_3 --> node_1_1_2_0_3_1_4_1_4\n",
       "    node_1_1_2_1_2[\"8\"]\n",
       "    node_1_1_1 --> node_1_1_2_1_2\n",
       "    node_1_1_2_1_3_0_3[\"2\"]\n",
       "    node_1_1_2_1_2 --> node_1_1_2_1_3_0_3\n",
       "    node_1_1_2_1_3_1_3[\"4\"]\n",
       "    node_1_1_2_1_2 --> node_1_1_2_1_3_1_3\n",
       "    node_1_1_2_1_3_1_4_0_4[\"2\"]\n",
       "    node_1_1_2_1_3_1_3 --> node_1_1_2_1_3_1_4_0_4\n",
       "    node_1_1_2_1_3_1_4_1_4[\"2\"]\n",
       "    node_1_1_2_1_3_1_3 --> node_1_1_2_1_3_1_4_1_4\n",
       "```"
      ],
      "text/plain": [
       "<IPython.core.display.Markdown object>"
      ]
     },
     "metadata": {},
     "output_type": "display_data"
    }
   ],
   "source": [
    "factor_tree(-64, \"b\")"
   ]
  }
 ],
 "metadata": {
  "kernelspec": {
   "display_name": "Python 3 (ipykernel)",
   "language": "python",
   "name": "python3"
  },
  "language_info": {
   "codemirror_mode": {
    "name": "ipython",
    "version": 3
   },
   "file_extension": ".py",
   "mimetype": "text/x-python",
   "name": "python",
   "nbconvert_exporter": "python",
   "pygments_lexer": "ipython3",
   "version": "3.13.3"
  }
 },
 "nbformat": 4,
 "nbformat_minor": 5
}
