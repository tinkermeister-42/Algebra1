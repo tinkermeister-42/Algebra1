{
 "cells": [
  {
   "cell_type": "code",
   "execution_count": 2,
   "id": "a67894e0-4972-4a06-a1a7-aaa4c853687d",
   "metadata": {},
   "outputs": [],
   "source": [
    "%load_ext autoreload\n",
    "%autoreload 2"
   ]
  },
  {
   "cell_type": "code",
   "execution_count": 3,
   "id": "d6e7fd75-7604-405c-8ab7-00fe2a4d8237",
   "metadata": {},
   "outputs": [],
   "source": [
    "import sys\n",
    "sys.path.append(\".\")\n",
    "import FactorTrees as ft    "
   ]
  },
  {
   "cell_type": "code",
   "execution_count": 6,
   "id": "e412c467-995e-43b6-9dca-e1ff69bf631e",
   "metadata": {},
   "outputs": [
    {
     "name": "stdout",
     "output_type": "stream",
     "text": [
      "\n",
      "```{mermaid}\n",
      "%%| label: mermaid-diagram\n",
      "%%| fit-align: center\n",
      "%%| fig-cap: \" \"\n",
      "flowchart TB\n",
      "    node_0(\"360\")\n",
      "    node_1_0_1(\"18\")\n",
      "    node_0 --> node_1_0_1\n",
      "    node_1_0_2_0_2(\"3\")\n",
      "    node_1_0_1 --> node_1_0_2_0_2\n",
      "    node_1_0_2_1_2(\"6\")\n",
      "    node_1_0_1 --> node_1_0_2_1_2\n",
      "    node_1_0_2_1_3_0_3(\"2\")\n",
      "    node_1_0_2_1_2 --> node_1_0_2_1_3_0_3\n",
      "    node_1_0_2_1_3_1_3(\"3\")\n",
      "    node_1_0_2_1_2 --> node_1_0_2_1_3_1_3\n",
      "    node_1_1_1(\"20\")\n",
      "    node_0 --> node_1_1_1\n",
      "    node_1_1_2_0_2(\"4\")\n",
      "    node_1_1_1 --> node_1_1_2_0_2\n",
      "    node_1_1_2_0_3_0_3(\"2\")\n",
      "    node_1_1_2_0_2 --> node_1_1_2_0_3_0_3\n",
      "    node_1_1_2_0_3_1_3(\"2\")\n",
      "    node_1_1_2_0_2 --> node_1_1_2_0_3_1_3\n",
      "    node_1_1_2_1_2(\"5\")\n",
      "    node_1_1_1 --> node_1_1_2_1_2\n",
      "```\n"
     ]
    },
    {
     "data": {
      "text/markdown": [
       "\n",
       "```{mermaid}\n",
       "%%| label: mermaid-diagram\n",
       "%%| fit-align: center\n",
       "%%| fig-cap: \" \"\n",
       "flowchart TB\n",
       "    node_0(\"360\")\n",
       "    node_1_0_1(\"18\")\n",
       "    node_0 --> node_1_0_1\n",
       "    node_1_0_2_0_2(\"3\")\n",
       "    node_1_0_1 --> node_1_0_2_0_2\n",
       "    node_1_0_2_1_2(\"6\")\n",
       "    node_1_0_1 --> node_1_0_2_1_2\n",
       "    node_1_0_2_1_3_0_3(\"2\")\n",
       "    node_1_0_2_1_2 --> node_1_0_2_1_3_0_3\n",
       "    node_1_0_2_1_3_1_3(\"3\")\n",
       "    node_1_0_2_1_2 --> node_1_0_2_1_3_1_3\n",
       "    node_1_1_1(\"20\")\n",
       "    node_0 --> node_1_1_1\n",
       "    node_1_1_2_0_2(\"4\")\n",
       "    node_1_1_1 --> node_1_1_2_0_2\n",
       "    node_1_1_2_0_3_0_3(\"2\")\n",
       "    node_1_1_2_0_2 --> node_1_1_2_0_3_0_3\n",
       "    node_1_1_2_0_3_1_3(\"2\")\n",
       "    node_1_1_2_0_2 --> node_1_1_2_0_3_1_3\n",
       "    node_1_1_2_1_2(\"5\")\n",
       "    node_1_1_1 --> node_1_1_2_1_2\n",
       "```"
      ],
      "text/plain": [
       "<IPython.core.display.Markdown object>"
      ]
     },
     "metadata": {},
     "output_type": "display_data"
    }
   ],
   "source": [
    "ft.factor_tree(360, \"b\", max_depth=8)"
   ]
  },
  {
   "cell_type": "code",
   "execution_count": 18,
   "id": "5c3f87ce-ff14-43b9-804a-0f064686ab5a",
   "metadata": {},
   "outputs": [
    {
     "name": "stdout",
     "output_type": "stream",
     "text": [
      "\n",
      "```{mermaid}\n",
      "%%| label: mermaid-diagram\n",
      "%%| fit-align: center\n",
      "%%| fig-cap: \" \"\n",
      "flowchart TB\n",
      "    node_0(\"480\")\n",
      "    node_1_0_1(\"20\")\n",
      "    node_0 --> node_1_0_1\n",
      "    node_1_0_2_0_2(\"4\")\n",
      "    node_1_0_1 --> node_1_0_2_0_2\n",
      "    node_1_0_2_0_3_0_3(\"2\")\n",
      "    node_1_0_2_0_2 --> node_1_0_2_0_3_0_3\n",
      "    node_1_0_2_0_3_1_3(\"2\")\n",
      "    node_1_0_2_0_2 --> node_1_0_2_0_3_1_3\n",
      "    node_1_0_2_1_2(\"5\")\n",
      "    node_1_0_1 --> node_1_0_2_1_2\n",
      "    node_1_1_1(\"24\")\n",
      "    node_0 --> node_1_1_1\n",
      "    node_1_1_2_0_2(\"4\")\n",
      "    node_1_1_1 --> node_1_1_2_0_2\n",
      "    node_1_1_2_0_3_0_3(\"2\")\n",
      "    node_1_1_2_0_2 --> node_1_1_2_0_3_0_3\n",
      "    node_1_1_2_0_3_1_3(\"2\")\n",
      "    node_1_1_2_0_2 --> node_1_1_2_0_3_1_3\n",
      "    node_1_1_2_1_2(\"6\")\n",
      "    node_1_1_1 --> node_1_1_2_1_2\n",
      "    node_1_1_2_1_3_0_3(\"2\")\n",
      "    node_1_1_2_1_2 --> node_1_1_2_1_3_0_3\n",
      "    node_1_1_2_1_3_1_3(\"3\")\n",
      "    node_1_1_2_1_2 --> node_1_1_2_1_3_1_3\n",
      "```\n"
     ]
    },
    {
     "data": {
      "text/markdown": [
       "\n",
       "```{mermaid}\n",
       "%%| label: mermaid-diagram\n",
       "%%| fit-align: center\n",
       "%%| fig-cap: \" \"\n",
       "flowchart TB\n",
       "    node_0(\"480\")\n",
       "    node_1_0_1(\"20\")\n",
       "    node_0 --> node_1_0_1\n",
       "    node_1_0_2_0_2(\"4\")\n",
       "    node_1_0_1 --> node_1_0_2_0_2\n",
       "    node_1_0_2_0_3_0_3(\"2\")\n",
       "    node_1_0_2_0_2 --> node_1_0_2_0_3_0_3\n",
       "    node_1_0_2_0_3_1_3(\"2\")\n",
       "    node_1_0_2_0_2 --> node_1_0_2_0_3_1_3\n",
       "    node_1_0_2_1_2(\"5\")\n",
       "    node_1_0_1 --> node_1_0_2_1_2\n",
       "    node_1_1_1(\"24\")\n",
       "    node_0 --> node_1_1_1\n",
       "    node_1_1_2_0_2(\"4\")\n",
       "    node_1_1_1 --> node_1_1_2_0_2\n",
       "    node_1_1_2_0_3_0_3(\"2\")\n",
       "    node_1_1_2_0_2 --> node_1_1_2_0_3_0_3\n",
       "    node_1_1_2_0_3_1_3(\"2\")\n",
       "    node_1_1_2_0_2 --> node_1_1_2_0_3_1_3\n",
       "    node_1_1_2_1_2(\"6\")\n",
       "    node_1_1_1 --> node_1_1_2_1_2\n",
       "    node_1_1_2_1_3_0_3(\"2\")\n",
       "    node_1_1_2_1_2 --> node_1_1_2_1_3_0_3\n",
       "    node_1_1_2_1_3_1_3(\"3\")\n",
       "    node_1_1_2_1_2 --> node_1_1_2_1_3_1_3\n",
       "```"
      ],
      "text/plain": [
       "<IPython.core.display.Markdown object>"
      ]
     },
     "metadata": {},
     "output_type": "display_data"
    }
   ],
   "source": [
    "ft.factor_tree(480, \"b\")"
   ]
  },
  {
   "cell_type": "code",
   "execution_count": 19,
   "id": "8116a0f9-736b-4c41-a126-6039710cdbb4",
   "metadata": {},
   "outputs": [
    {
     "name": "stdout",
     "output_type": "stream",
     "text": [
      "\n",
      "```{mermaid}\n",
      "%%| label: mermaid-diagram\n",
      "%%| fit-align: center\n",
      "%%| fig-cap: \" \"\n",
      "flowchart TB\n",
      "    node_0(\"60\")\n",
      "    node_1_0_1(\"6\")\n",
      "    node_0 --> node_1_0_1\n",
      "    node_1_0_2_0_2(\"2\")\n",
      "    node_1_0_1 --> node_1_0_2_0_2\n",
      "    node_1_0_2_1_2(\"3\")\n",
      "    node_1_0_1 --> node_1_0_2_1_2\n",
      "    node_1_1_1(\"10\")\n",
      "    node_0 --> node_1_1_1\n",
      "    node_1_1_2_0_2(\"2\")\n",
      "    node_1_1_1 --> node_1_1_2_0_2\n",
      "    node_1_1_2_1_2(\"5\")\n",
      "    node_1_1_1 --> node_1_1_2_1_2\n",
      "```\n"
     ]
    },
    {
     "data": {
      "text/markdown": [
       "\n",
       "```{mermaid}\n",
       "%%| label: mermaid-diagram\n",
       "%%| fit-align: center\n",
       "%%| fig-cap: \" \"\n",
       "flowchart TB\n",
       "    node_0(\"60\")\n",
       "    node_1_0_1(\"6\")\n",
       "    node_0 --> node_1_0_1\n",
       "    node_1_0_2_0_2(\"2\")\n",
       "    node_1_0_1 --> node_1_0_2_0_2\n",
       "    node_1_0_2_1_2(\"3\")\n",
       "    node_1_0_1 --> node_1_0_2_1_2\n",
       "    node_1_1_1(\"10\")\n",
       "    node_0 --> node_1_1_1\n",
       "    node_1_1_2_0_2(\"2\")\n",
       "    node_1_1_1 --> node_1_1_2_0_2\n",
       "    node_1_1_2_1_2(\"5\")\n",
       "    node_1_1_1 --> node_1_1_2_1_2\n",
       "```"
      ],
      "text/plain": [
       "<IPython.core.display.Markdown object>"
      ]
     },
     "metadata": {},
     "output_type": "display_data"
    }
   ],
   "source": [
    "ft.factor_tree(60, \"b\")"
   ]
  },
  {
   "cell_type": "code",
   "execution_count": 305,
   "id": "69fc9ef0-90c0-4949-b264-46853cb0b1a6",
   "metadata": {},
   "outputs": [
    {
     "data": {
      "text/plain": [
       "[2, 2, 2, 3, 3, 5]"
      ]
     },
     "execution_count": 305,
     "metadata": {},
     "output_type": "execute_result"
    }
   ],
   "source": [
    "ft.prime_factors(360)"
   ]
  },
  {
   "cell_type": "code",
   "execution_count": 312,
   "id": "ea558274-b97d-4479-bcf5-69a462ecf8a7",
   "metadata": {},
   "outputs": [
    {
     "name": "stdout",
     "output_type": "stream",
     "text": [
      "```{mermaid}\n",
      "flowchart TD\n",
      "    node_0[\"-64\"]\n",
      "    node_1_0_1[\"-1\"]\n",
      "    node_0 --> node_1_0_1\n",
      "    node_1_1_1[\"64\"]\n",
      "    node_0 --> node_1_1_1\n",
      "    node_1_1_2_0_2[\"8\"]\n",
      "    node_1_1_1 --> node_1_1_2_0_2\n",
      "    node_1_1_2_0_3_0_3[\"2\"]\n",
      "    node_1_1_2_0_2 --> node_1_1_2_0_3_0_3\n",
      "    node_1_1_2_0_3_1_3[\"4\"]\n",
      "    node_1_1_2_0_2 --> node_1_1_2_0_3_1_3\n",
      "    node_1_1_2_0_3_1_4_0_4[\"2\"]\n",
      "    node_1_1_2_0_3_1_3 --> node_1_1_2_0_3_1_4_0_4\n",
      "    node_1_1_2_0_3_1_4_1_4[\"2\"]\n",
      "    node_1_1_2_0_3_1_3 --> node_1_1_2_0_3_1_4_1_4\n",
      "    node_1_1_2_1_2[\"8\"]\n",
      "    node_1_1_1 --> node_1_1_2_1_2\n",
      "    node_1_1_2_1_3_0_3[\"2\"]\n",
      "    node_1_1_2_1_2 --> node_1_1_2_1_3_0_3\n",
      "    node_1_1_2_1_3_1_3[\"4\"]\n",
      "    node_1_1_2_1_2 --> node_1_1_2_1_3_1_3\n",
      "    node_1_1_2_1_3_1_4_0_4[\"2\"]\n",
      "    node_1_1_2_1_3_1_3 --> node_1_1_2_1_3_1_4_0_4\n",
      "    node_1_1_2_1_3_1_4_1_4[\"2\"]\n",
      "    node_1_1_2_1_3_1_3 --> node_1_1_2_1_3_1_4_1_4\n",
      "```\n"
     ]
    },
    {
     "data": {
      "text/markdown": [
       "```{mermaid}\n",
       "flowchart TD\n",
       "    node_0[\"-64\"]\n",
       "    node_1_0_1[\"-1\"]\n",
       "    node_0 --> node_1_0_1\n",
       "    node_1_1_1[\"64\"]\n",
       "    node_0 --> node_1_1_1\n",
       "    node_1_1_2_0_2[\"8\"]\n",
       "    node_1_1_1 --> node_1_1_2_0_2\n",
       "    node_1_1_2_0_3_0_3[\"2\"]\n",
       "    node_1_1_2_0_2 --> node_1_1_2_0_3_0_3\n",
       "    node_1_1_2_0_3_1_3[\"4\"]\n",
       "    node_1_1_2_0_2 --> node_1_1_2_0_3_1_3\n",
       "    node_1_1_2_0_3_1_4_0_4[\"2\"]\n",
       "    node_1_1_2_0_3_1_3 --> node_1_1_2_0_3_1_4_0_4\n",
       "    node_1_1_2_0_3_1_4_1_4[\"2\"]\n",
       "    node_1_1_2_0_3_1_3 --> node_1_1_2_0_3_1_4_1_4\n",
       "    node_1_1_2_1_2[\"8\"]\n",
       "    node_1_1_1 --> node_1_1_2_1_2\n",
       "    node_1_1_2_1_3_0_3[\"2\"]\n",
       "    node_1_1_2_1_2 --> node_1_1_2_1_3_0_3\n",
       "    node_1_1_2_1_3_1_3[\"4\"]\n",
       "    node_1_1_2_1_2 --> node_1_1_2_1_3_1_3\n",
       "    node_1_1_2_1_3_1_4_0_4[\"2\"]\n",
       "    node_1_1_2_1_3_1_3 --> node_1_1_2_1_3_1_4_0_4\n",
       "    node_1_1_2_1_3_1_4_1_4[\"2\"]\n",
       "    node_1_1_2_1_3_1_3 --> node_1_1_2_1_3_1_4_1_4\n",
       "```"
      ],
      "text/plain": [
       "<IPython.core.display.Markdown object>"
      ]
     },
     "metadata": {},
     "output_type": "display_data"
    }
   ],
   "source": [
    "factor_tree(-64, \"b\")"
   ]
  },
  {
   "cell_type": "code",
   "execution_count": 26,
   "id": "e78e0e72-bf98-48c3-8aec-cf52924cae18",
   "metadata": {},
   "outputs": [
    {
     "name": "stdout",
     "output_type": "stream",
     "text": [
      "\n",
      "```{mermaid}\n",
      "%%| label: mermaid-diagram\n",
      "%%| fit-align: center\n",
      "%%| fig-cap: \" \"\n",
      "flowchart TB\n",
      "    node_0(\"18\")\n",
      "    node_1_0_1(\"3\")\n",
      "    node_0 --> node_1_0_1\n",
      "    node_1_1_1(\"6\")\n",
      "    node_0 --> node_1_1_1\n",
      "    node_1_1_2_0_2(\"2\")\n",
      "    node_1_1_1 --> node_1_1_2_0_2\n",
      "    node_1_1_2_1_2(\"3\")\n",
      "    node_1_1_1 --> node_1_1_2_1_2\n",
      "```\n"
     ]
    },
    {
     "data": {
      "text/markdown": [
       "\n",
       "```{mermaid}\n",
       "%%| label: mermaid-diagram\n",
       "%%| fit-align: center\n",
       "%%| fig-cap: \" \"\n",
       "flowchart TB\n",
       "    node_0(\"18\")\n",
       "    node_1_0_1(\"3\")\n",
       "    node_0 --> node_1_0_1\n",
       "    node_1_1_1(\"6\")\n",
       "    node_0 --> node_1_1_1\n",
       "    node_1_1_2_0_2(\"2\")\n",
       "    node_1_1_1 --> node_1_1_2_0_2\n",
       "    node_1_1_2_1_2(\"3\")\n",
       "    node_1_1_1 --> node_1_1_2_1_2\n",
       "```"
      ],
      "text/plain": [
       "<IPython.core.display.Markdown object>"
      ]
     },
     "metadata": {},
     "output_type": "display_data"
    }
   ],
   "source": [
    "ft.factor_tree(18)"
   ]
  },
  {
   "cell_type": "code",
   "execution_count": 51,
   "id": "db1e3797-d9ef-41cd-9fe4-14e525eacfa0",
   "metadata": {},
   "outputs": [
    {
     "name": "stdout",
     "output_type": "stream",
     "text": [
      "\n",
      "```{mermaid}\n",
      "%%| label: mermaid-diagram\n",
      "%%| fit-align: center\n",
      "%%| fig-cap: \" \"\n",
      "flowchart TB\n",
      "    node_0(\"90\")\n",
      "    node_1_0_1(\"9\")\n",
      "    node_0 --> node_1_0_1\n",
      "    node_1_0_2_0_2(\"3\")\n",
      "    node_1_0_1 --> node_1_0_2_0_2\n",
      "    node_1_0_2_1_2(\"3\")\n",
      "    node_1_0_1 --> node_1_0_2_1_2\n",
      "    node_1_1_1(\"10\")\n",
      "    node_0 --> node_1_1_1\n",
      "    node_1_1_2_0_2(\"2\")\n",
      "    node_1_1_1 --> node_1_1_2_0_2\n",
      "    node_1_1_2_1_2(\"5\")\n",
      "    node_1_1_1 --> node_1_1_2_1_2\n",
      "```\n"
     ]
    },
    {
     "data": {
      "text/markdown": [
       "\n",
       "```{mermaid}\n",
       "%%| label: mermaid-diagram\n",
       "%%| fit-align: center\n",
       "%%| fig-cap: \" \"\n",
       "flowchart TB\n",
       "    node_0(\"90\")\n",
       "    node_1_0_1(\"9\")\n",
       "    node_0 --> node_1_0_1\n",
       "    node_1_0_2_0_2(\"3\")\n",
       "    node_1_0_1 --> node_1_0_2_0_2\n",
       "    node_1_0_2_1_2(\"3\")\n",
       "    node_1_0_1 --> node_1_0_2_1_2\n",
       "    node_1_1_1(\"10\")\n",
       "    node_0 --> node_1_1_1\n",
       "    node_1_1_2_0_2(\"2\")\n",
       "    node_1_1_1 --> node_1_1_2_0_2\n",
       "    node_1_1_2_1_2(\"5\")\n",
       "    node_1_1_1 --> node_1_1_2_1_2\n",
       "```"
      ],
      "text/plain": [
       "<IPython.core.display.Markdown object>"
      ]
     },
     "metadata": {},
     "output_type": "display_data"
    }
   ],
   "source": [
    "ft.factor_tree(90, \"r\")"
   ]
  },
  {
   "cell_type": "markdown",
   "id": "8dd9aa7f-57a2-4375-bcbf-0d8c662d98e0",
   "metadata": {},
   "source": [
    "```{mermaid}\n",
    "%%| label: mermaid-diagram\n",
    "%%| fit-align: center\n",
    "%%| fig-cap: \" \"\n",
    "flowchart TB\n",
    "    node_0(\"150\")\n",
    "    node_1_0_1(\"10\")\n",
    "    node_0 --> node_1_0_1\n",
    "    node_1_0_2_0_2(\"2\")\n",
    "    node_1_0_1 --> node_1_0_2_0_2\n",
    "    node_1_0_2_1_2(\"5\")\n",
    "    node_1_0_1 --> node_1_0_2_1_2\n",
    "    node_1_1_1(\"15\")\n",
    "    node_0 --> node_1_1_1\n",
    "    node_1_1_2_0_2(\"3\")\n",
    "    node_1_1_1 --> node_1_1_2_0_2\n",
    "    node_1_1_2_1_2(\"5\")\n",
    "    node_1_1_1 --> node_1_1_2_1_2\n",
    "```"
   ]
  },
  {
   "cell_type": "code",
   "execution_count": 41,
   "id": "f40a368b-e1d5-4bd5-95d7-253223394b43",
   "metadata": {},
   "outputs": [
    {
     "data": {
      "text/plain": [
       "30.0"
      ]
     },
     "execution_count": 41,
     "metadata": {},
     "output_type": "execute_result"
    }
   ],
   "source": [
    "180 / 6"
   ]
  },
  {
   "cell_type": "code",
   "execution_count": null,
   "id": "ef362936-4d8a-41ff-ad45-3490ef483532",
   "metadata": {},
   "outputs": [],
   "source": []
  }
 ],
 "metadata": {
  "kernelspec": {
   "display_name": "Python 3 (ipykernel)",
   "language": "python",
   "name": "python3"
  },
  "language_info": {
   "codemirror_mode": {
    "name": "ipython",
    "version": 3
   },
   "file_extension": ".py",
   "mimetype": "text/x-python",
   "name": "python",
   "nbconvert_exporter": "python",
   "pygments_lexer": "ipython3",
   "version": "3.13.3"
  }
 },
 "nbformat": 4,
 "nbformat_minor": 5
}
